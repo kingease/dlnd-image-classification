{
 "cells": [
  {
   "cell_type": "markdown",
   "metadata": {
    "collapsed": true
   },
   "source": [
    "# Image Classification\n",
    "In this project, you'll classify images from the [CIFAR-10 dataset](https://www.cs.toronto.edu/~kriz/cifar.html).  The dataset consists of airplanes, dogs, cats, and other objects. You'll preprocess the images, then train a convolutional neural network on all the samples. The images need to be normalized and the labels need to be one-hot encoded.  You'll get to apply what you learned and build a convolutional, max pooling, dropout, and fully connected layers.  At the end, you'll get to see your neural network's predictions on the sample images.\n",
    "## Get the Data\n",
    "Run the following cell to download the [CIFAR-10 dataset for python](https://www.cs.toronto.edu/~kriz/cifar-10-python.tar.gz)."
   ]
  },
  {
   "cell_type": "code",
   "execution_count": 1,
   "metadata": {
    "collapsed": false
   },
   "outputs": [
    {
     "name": "stdout",
     "output_type": "stream",
     "text": [
      "All files found!\n"
     ]
    }
   ],
   "source": [
    "\"\"\"\n",
    "DON'T MODIFY ANYTHING IN THIS CELL THAT IS BELOW THIS LINE\n",
    "\"\"\"\n",
    "from urllib.request import urlretrieve\n",
    "from os.path import isfile, isdir\n",
    "from tqdm import tqdm\n",
    "import problem_unittests as tests\n",
    "import tarfile\n",
    "\n",
    "cifar10_dataset_folder_path = 'cifar-10-batches-py'\n",
    "\n",
    "class DLProgress(tqdm):\n",
    "    last_block = 0\n",
    "\n",
    "    def hook(self, block_num=1, block_size=1, total_size=None):\n",
    "        self.total = total_size\n",
    "        self.update((block_num - self.last_block) * block_size)\n",
    "        self.last_block = block_num\n",
    "\n",
    "if not isfile('cifar-10-python.tar.gz'):\n",
    "    with DLProgress(unit='B', unit_scale=True, miniters=1, desc='CIFAR-10 Dataset') as pbar:\n",
    "        urlretrieve(\n",
    "            'https://www.cs.toronto.edu/~kriz/cifar-10-python.tar.gz',\n",
    "            'cifar-10-python.tar.gz',\n",
    "            pbar.hook)\n",
    "\n",
    "if not isdir(cifar10_dataset_folder_path):\n",
    "    with tarfile.open('cifar-10-python.tar.gz') as tar:\n",
    "        tar.extractall()\n",
    "        tar.close()\n",
    "\n",
    "\n",
    "tests.test_folder_path(cifar10_dataset_folder_path)"
   ]
  },
  {
   "cell_type": "markdown",
   "metadata": {},
   "source": [
    "## Explore the Data\n",
    "The dataset is broken into batches to prevent your machine from running out of memory.  The CIFAR-10 dataset consists of 5 batches, named `data_batch_1`, `data_batch_2`, etc.. Each batch contains the labels and images that are one of the following:\n",
    "* airplane\n",
    "* automobile\n",
    "* bird\n",
    "* cat\n",
    "* deer\n",
    "* dog\n",
    "* frog\n",
    "* horse\n",
    "* ship\n",
    "* truck\n",
    "\n",
    "Understanding a dataset is part of making predictions on the data.  Play around with the code cell below by changing the `batch_id` and `sample_id`. The `batch_id` is the id for a batch (1-5). The `sample_id` is the id for a image and label pair in the batch.\n",
    "\n",
    "Ask yourself \"What are all possible labels?\", \"What is the range of values for the image data?\", \"Are the labels in order or random?\".  Answers to questions like these will help you preprocess the data and end up with better predictions."
   ]
  },
  {
   "cell_type": "code",
   "execution_count": 2,
   "metadata": {
    "collapsed": false
   },
   "outputs": [
    {
     "name": "stdout",
     "output_type": "stream",
     "text": [
      "\n",
      "Stats of batch 1:\n",
      "Samples: 10000\n",
      "Label Counts: {0: 1005, 1: 974, 2: 1032, 3: 1016, 4: 999, 5: 937, 6: 1030, 7: 1001, 8: 1025, 9: 981}\n",
      "First 20 Labels: [6, 9, 9, 4, 1, 1, 2, 7, 8, 3, 4, 7, 7, 2, 9, 9, 9, 3, 2, 6]\n",
      "\n",
      "Example of Image 5:\n",
      "Image - Min Value: 0 Max Value: 252\n",
      "Image - Shape: (32, 32, 3)\n",
      "Label - Label Id: 1 Name: automobile\n"
     ]
    },
    {
     "data": {
      "image/png": "[encoded data removed]",
      "text/plain": [
       "<matplotlib.figure.Figure at 0x111d47c50>"
      ]
     },
     "metadata": {
      "image/png": {
       "height": 250,
       "width": 253
      }
     },
     "output_type": "display_data"
    }
   ],
   "source": [
    "%matplotlib inline\n",
    "%config InlineBackend.figure_format = 'retina'\n",
    "\n",
    "import helper\n",
    "import numpy as np\n",
    "\n",
    "# Explore the dataset\n",
    "batch_id = 1\n",
    "sample_id = 5\n",
    "helper.display_stats(cifar10_dataset_folder_path, batch_id, sample_id)"
   ]
  },
  {
   "cell_type": "markdown",
   "metadata": {},
   "source": [
    "## Implement Preprocess Functions\n",
    "### Normalize\n",
    "In the cell below, implement the `normalize` function to take in image data, `x`, and return it as a normalized Numpy array. The values should be in the range of 0 to 1, inclusive.  The return object should be the same shape as `x`."
   ]
  },
  {
   "cell_type": "code",
   "execution_count": 3,
   "metadata": {
    "collapsed": false
   },
   "outputs": [
    {
     "name": "stdout",
     "output_type": "stream",
     "text": [
      "Tests Passed\n"
     ]
    }
   ],
   "source": [
    "def normalize(x):\n",
    "    \"\"\"\n",
    "    Normalize a list of sample image data in the range of 0 to 1\n",
    "    : x: List of image data.  The image shape is (32, 32, 3)\n",
    "    : return: Numpy array of normalize data\n",
    "    \"\"\"\n",
    "    # TODO: Implement Function\n",
    "    return x/np.amax(x)\n",
    "\n",
    "\n",
    "\"\"\"\n",
    "DON'T MODIFY ANYTHING IN THIS CELL THAT IS BELOW THIS LINE\n",
    "\"\"\"\n",
    "tests.test_normalize(normalize)"
   ]
  },
  {
   "cell_type": "markdown",
   "metadata": {},
   "source": [
    "### One-hot encode\n",
    "Just like the previous code cell, you'll be implementing a function for preprocessing.  This time, you'll implement the `one_hot_encode` function. The input, `x`, are a list of labels.  Implement the function to return the list of labels as One-Hot encoded Numpy array.  The possible values for labels are 0 to 9. The one-hot encoding function should return the same encoding for each value between each call to `one_hot_encode`.  Make sure to save the map of encodings outside the function.\n",
    "\n",
    "Hint: Don't reinvent the wheel."
   ]
  },
  {
   "cell_type": "code",
   "execution_count": 23,
   "metadata": {
    "collapsed": false
   },
   "outputs": [
    {
     "name": "stdout",
     "output_type": "stream",
     "text": [
      "Tests Passed\n"
     ]
    }
   ],
   "source": [
    "def one_hot_encode(x):\n",
    "    \"\"\"\n",
    "    One hot encode a list of sample labels. Return a one-hot encoded vector for each label.\n",
    "    : x: List of sample Labels\n",
    "    : return: Numpy array of one-hot encoded labels\n",
    "    \"\"\"\n",
    "    # TODO: Implement Function\n",
    "    one_hots = np.zeros((len(x), 10), dtype=int)\n",
    "    for idx, x in enumerate(x):\n",
    "        one_hots[idx, x] = 1\n",
    "    return one_hots\n",
    "\n",
    "\n",
    "\"\"\"\n",
    "DON'T MODIFY ANYTHING IN THIS CELL THAT IS BELOW THIS LINE\n",
    "\"\"\"\n",
    "tests.test_one_hot_encode(one_hot_encode)"
   ]
  },
  {
   "cell_type": "markdown",
   "metadata": {},
   "source": [
    "### Randomize Data\n",
    "As you saw from exploring the data above, the order of the samples are randomized.  It doesn't hurt to randomize it again, but you don't need to for this dataset."
   ]
  },
  {
   "cell_type": "markdown",
   "metadata": {},
   "source": [
    "## Preprocess all the data and save it\n",
    "Running the code cell below will preprocess all the CIFAR-10 data and save it to file. The code below also uses 10% of the training data for validation."
   ]
  },
  {
   "cell_type": "code",
   "execution_count": 14,
   "metadata": {
    "collapsed": false
   },
   "outputs": [],
   "source": [
    "\"\"\"\n",
    "DON'T MODIFY ANYTHING IN THIS CELL\n",
    "\"\"\"\n",
    "# Preprocess Training, Validation, and Testing Data\n",
    "helper.preprocess_and_save_data(cifar10_dataset_folder_path, normalize, one_hot_encode)"
   ]
  },
  {
   "cell_type": "markdown",
   "metadata": {},
   "source": [
    "# Check Point\n",
    "This is your first checkpoint.  If you ever decide to come back to this notebook or have to restart the notebook, you can start from here.  The preprocessed data has been saved to disk."
   ]
  },
  {
   "cell_type": "code",
   "execution_count": 1,
   "metadata": {
    "collapsed": true
   },
   "outputs": [],
   "source": [
    "\"\"\"\n",
    "DON'T MODIFY ANYTHING IN THIS CELL\n",
    "\"\"\"\n",
    "import pickle\n",
    "import problem_unittests as tests\n",
    "import helper\n",
    "\n",
    "# Load the Preprocessed Validation data\n",
    "valid_features, valid_labels = pickle.load(open('preprocess_validation.p', mode='rb'))"
   ]
  },
  {
   "cell_type": "markdown",
   "metadata": {},
   "source": [
    "## Build the network\n",
    "For the neural network, you'll build each layer into a function.  Most of the code you've seen has been outside of functions. To test your code more thoroughly, we require that you put each layer in a function.  This allows us to give you better feedback and test for simple mistakes using our unittests before you submit your project.\n",
    "\n",
    "If you're finding it hard to dedicate enough time for this course a week, we've provided a small shortcut to this part of the project. In the next couple of problems, you'll have the option to use [TensorFlow Layers](https://www.tensorflow.org/api_docs/python/tf/layers) or [TensorFlow Layers (contrib)](https://www.tensorflow.org/api_guides/python/contrib.layers) to build each layer, except \"Convolutional & Max Pooling\" layer.  TF Layers is similar to Keras's and TFLearn's abstraction to layers, so it's easy to pickup.\n",
    "\n",
    "If you would like to get the most of this course, try to solve all the problems without TF Layers.  Let's begin!\n",
    "### Input\n",
    "The neural network needs to read the image data, one-hot encoded labels, and dropout keep probability. Implement the following functions\n",
    "* Implement `neural_net_image_input`\n",
    " * Return a [TF Placeholder](https://www.tensorflow.org/api_docs/python/tf/placeholder)\n",
    " * Set the shape using `image_shape` with batch size set to `None`.\n",
    " * Name the TensorFlow placeholder \"x\" using the TensorFlow `name` parameter in the [TF Placeholder](https://www.tensorflow.org/api_docs/python/tf/placeholder).\n",
    "* Implement `neural_net_label_input`\n",
    " * Return a [TF Placeholder](https://www.tensorflow.org/api_docs/python/tf/placeholder)\n",
    " * Set the shape using `n_classes` with batch size set to `None`.\n",
    " * Name the TensorFlow placeholder \"y\" using the TensorFlow `name` parameter in the [TF Placeholder](https://www.tensorflow.org/api_docs/python/tf/placeholder).\n",
    "* Implement `neural_net_keep_prob_input`\n",
    " * Return a [TF Placeholder](https://www.tensorflow.org/api_docs/python/tf/placeholder) for dropout keep probability.\n",
    " * Name the TensorFlow placeholder \"keep_prob\" using the TensorFlow `name` parameter in the [TF Placeholder](https://www.tensorflow.org/api_docs/python/tf/placeholder).\n",
    "\n",
    "These names will be used at the end of the project to load your saved model.\n",
    "\n",
    "Note: `None` for shapes in TensorFlow allow for a dynamic size."
   ]
  },
  {
   "cell_type": "code",
   "execution_count": 2,
   "metadata": {
    "collapsed": false
   },
   "outputs": [
    {
     "name": "stdout",
     "output_type": "stream",
     "text": [
      "Image Input Tests Passed.\n",
      "Label Input Tests Passed.\n",
      "Keep Prob Tests Passed.\n"
     ]
    }
   ],
   "source": [
    "import tensorflow as tf\n",
    "\n",
    "def neural_net_image_input(image_shape):\n",
    "    \"\"\"\n",
    "    Return a Tensor for a bach of image input\n",
    "    : image_shape: Shape of the images\n",
    "    : return: Tensor for image input.\n",
    "    \"\"\"\n",
    "    # TODO: Implement Function\n",
    "    return tf.placeholder(tf.float32, shape=(None, *image_shape), name='x')\n",
    "\n",
    "\n",
    "def neural_net_label_input(n_classes):\n",
    "    \"\"\"\n",
    "    Return a Tensor for a batch of label input\n",
    "    : n_classes: Number of classes\n",
    "    : return: Tensor for label input.\n",
    "    \"\"\"\n",
    "    # TODO: Implement Function\n",
    "    return tf.placeholder(tf.float32, shape=(None, n_classes), name='y')\n",
    "\n",
    "\n",
    "def neural_net_keep_prob_input():\n",
    "    \"\"\"\n",
    "    Return a Tensor for keep probability\n",
    "    : return: Tensor for keep probability.\n",
    "    \"\"\"\n",
    "    # TODO: Implement Function\n",
    "    return tf.placeholder(tf.float32, name='keep_prob')\n",
    "\n",
    "\n",
    "\"\"\"\n",
    "DON'T MODIFY ANYTHING IN THIS CELL THAT IS BELOW THIS LINE\n",
    "\"\"\"\n",
    "tf.reset_default_graph()\n",
    "tests.test_nn_image_inputs(neural_net_image_input)\n",
    "tests.test_nn_label_inputs(neural_net_label_input)\n",
    "tests.test_nn_keep_prob_inputs(neural_net_keep_prob_input)"
   ]
  },
  {
   "cell_type": "markdown",
   "metadata": {},
   "source": [
    "### Convolution and Max Pooling Layer\n",
    "Convolution layers have a lot of success with images. For this code cell, you should implement the function `conv2d_maxpool` to apply convolution then max pooling:\n",
    "* Create the weight and bias using `conv_ksize`, `conv_num_outputs` and the shape of `x_tensor`.\n",
    "* Apply a convolution to `x_tensor` using weight and `conv_strides`.\n",
    " * We recommend you use same padding, but you're welcome to use any padding.\n",
    "* Add bias\n",
    "* Add a nonlinear activation to the convolution.\n",
    "* Apply Max Pooling using `pool_ksize` and `pool_strides`.\n",
    " * We recommend you use same padding, but you're welcome to use any padding.\n",
    "\n",
    "Note: You **can't** use [TensorFlow Layers](https://www.tensorflow.org/api_docs/python/tf/layers) or [TensorFlow Layers (contrib)](https://www.tensorflow.org/api_guides/python/contrib.layers) for this layer.  You're free to use any TensorFlow package for all the other layers."
   ]
  },
  {
   "cell_type": "code",
   "execution_count": 3,
   "metadata": {
    "collapsed": false
   },
   "outputs": [
    {
     "name": "stdout",
     "output_type": "stream",
     "text": [
      "Tests Passed\n"
     ]
    }
   ],
   "source": [
    "def conv2d_maxpool(x_tensor, conv_num_outputs, conv_ksize, conv_strides, pool_ksize, pool_strides):\n",
    "    \"\"\"\n",
    "    Apply convolution then max pooling to x_tensor\n",
    "    :param x_tensor: TensorFlow Tensor\n",
    "    :param conv_num_outputs: Number of outputs for the convolutional layer\n",
    "    :param conv_strides: Stride 2-D Tuple for convolution\n",
    "    :param pool_ksize: kernal size 2-D Tuple for pool\n",
    "    :param pool_strides: Stride 2-D Tuple for pool\n",
    "    : return: A tensor that represents convolution and max pooling of x_tensor\n",
    "    \"\"\"\n",
    "    # get image size and filter size\n",
    "    _, img_height, img_width, depth = x_tensor.get_shape()\n",
    "    depth = int(depth)\n",
    "    filter_height, filter_width = conv_ksize\n",
    "    \n",
    "    # create weight and bias\n",
    "    weights = tf.Variable(tf.truncated_normal([filter_height, filter_width, depth, conv_num_outputs]))\n",
    "    bias = tf.Variable(tf.zeros(conv_num_outputs))\n",
    "    \n",
    "    # conv the input with weights and bias\n",
    "    conv_layer = tf.nn.conv2d(x_tensor, weights, [1, *conv_strides, 1], padding='SAME')\n",
    "    conv_layer = tf.nn.bias_add(conv_layer, bias)\n",
    "    # output conv\n",
    "    conv_layer = tf.nn.relu(conv_layer)\n",
    "    # max pooling\n",
    "    conv_layer = tf.nn.max_pool(conv_layer, [1, *pool_ksize, 1], [1, *pool_strides, 1], padding='SAME')\n",
    "    \n",
    "    return conv_layer\n",
    "\n",
    "\n",
    "\"\"\"\n",
    "DON'T MODIFY ANYTHING IN THIS CELL THAT IS BELOW THIS LINE\n",
    "\"\"\"\n",
    "tests.test_con_pool(conv2d_maxpool)"
   ]
  },
  {
   "cell_type": "markdown",
   "metadata": {},
   "source": [
    "### Flatten Layer\n",
    "Implement the `flatten` function to change the dimension of `x_tensor` from a 4-D tensor to a 2-D tensor.  The output should be the shape (*Batch Size*, *Flattened Image Size*). You can use [TensorFlow Layers](https://www.tensorflow.org/api_docs/python/tf/layers) or [TensorFlow Layers (contrib)](https://www.tensorflow.org/api_guides/python/contrib.layers) for this layer."
   ]
  },
  {
   "cell_type": "code",
   "execution_count": 4,
   "metadata": {
    "collapsed": false
   },
   "outputs": [
    {
     "name": "stdout",
     "output_type": "stream",
     "text": [
      "Tests Passed\n"
     ]
    }
   ],
   "source": [
    "def flatten(x_tensor):\n",
    "    \"\"\"\n",
    "    Flatten x_tensor to (Batch Size, Flattened Image Size)\n",
    "    : x_tensor: A tensor of size (Batch Size, ...), where ... are the image dimensions.\n",
    "    : return: A tensor of size (Batch Size, Flattened Image Size).\n",
    "    \"\"\"\n",
    "    # TODO: Implement Function\n",
    "    _, height, width, depth = x_tensor.get_shape()\n",
    "    flattened_img_size = height * width * depth\n",
    "    return tf.reshape(x_tensor, [-1, int(flattened_img_size)])\n",
    "\n",
    "\n",
    "\"\"\"\n",
    "DON'T MODIFY ANYTHING IN THIS CELL THAT IS BELOW THIS LINE\n",
    "\"\"\"\n",
    "tests.test_flatten(flatten)"
   ]
  },
  {
   "cell_type": "markdown",
   "metadata": {},
   "source": [
    "### Fully-Connected Layer\n",
    "Implement the `fully_conn` function to apply a fully connected layer to `x_tensor` with the shape (*Batch Size*, *num_outputs*). You can use [TensorFlow Layers](https://www.tensorflow.org/api_docs/python/tf/layers) or [TensorFlow Layers (contrib)](https://www.tensorflow.org/api_guides/python/contrib.layers) for this layer."
   ]
  },
  {
   "cell_type": "code",
   "execution_count": 5,
   "metadata": {
    "collapsed": false
   },
   "outputs": [
    {
     "name": "stdout",
     "output_type": "stream",
     "text": [
      "Tests Passed\n"
     ]
    }
   ],
   "source": [
    "def fully_conn(x_tensor, num_outputs):\n",
    "    \"\"\"\n",
    "    Apply a fully connected layer to x_tensor using weight and bias\n",
    "    : x_tensor: A 2-D tensor where the first dimension is batch size.\n",
    "    : num_outputs: The number of output that the new tensor should be.\n",
    "    : return: A 2-D tensor where the second dimension is num_outputs.\n",
    "    \"\"\"\n",
    "    # TODO: Implement Function\n",
    "    _, dim_features = x_tensor.get_shape()\n",
    "    dim_features = int(dim_features)\n",
    "    \n",
    "    weights = tf.Variable(tf.truncated_normal([dim_features, num_outputs]))\n",
    "    bias = tf.Variable(tf.zeros(num_outputs))\n",
    "    \n",
    "    hidden_layer = tf.matmul(x_tensor, weights)\n",
    "    hidden_layer = tf.add(hidden_layer, bias)\n",
    "    hidden_layer = tf.nn.relu(hidden_layer)\n",
    "    return hidden_layer\n",
    "\n",
    "\n",
    "\"\"\"\n",
    "DON'T MODIFY ANYTHING IN THIS CELL THAT IS BELOW THIS LINE\n",
    "\"\"\"\n",
    "tests.test_fully_conn(fully_conn)"
   ]
  },
  {
   "cell_type": "markdown",
   "metadata": {},
   "source": [
    "### Output Layer\n",
    "Implement the `output` function to apply a fully connected layer to `x_tensor` with the shape (*Batch Size*, *num_outputs*). You can use [TensorFlow Layers](https://www.tensorflow.org/api_docs/python/tf/layers) or [TensorFlow Layers (contrib)](https://www.tensorflow.org/api_guides/python/contrib.layers) for this layer.\n",
    "\n",
    "Note: Activation, softmax, or cross entropy shouldn't be applied to this."
   ]
  },
  {
   "cell_type": "code",
   "execution_count": 6,
   "metadata": {
    "collapsed": false
   },
   "outputs": [
    {
     "name": "stdout",
     "output_type": "stream",
     "text": [
      "Tests Passed\n"
     ]
    }
   ],
   "source": [
    "def output(x_tensor, num_outputs):\n",
    "    \"\"\"\n",
    "    Apply a output layer to x_tensor using weight and bias\n",
    "    : x_tensor: A 2-D tensor where the first dimension is batch size.\n",
    "    : num_outputs: The number of output that the new tensor should be.\n",
    "    : return: A 2-D tensor where the second dimension is num_outputs.\n",
    "    \"\"\"\n",
    "    # TODO: Implement Function\n",
    "    _, dim_features = x_tensor.get_shape()\n",
    "    dim_features = int(dim_features)\n",
    "    \n",
    "    weights = tf.Variable(tf.truncated_normal([dim_features, num_outputs]))\n",
    "    bias = tf.Variable(tf.zeros(num_outputs))\n",
    "    \n",
    "    hidden_layer = tf.matmul(x_tensor, weights)\n",
    "    hidden_layer = tf.add(hidden_layer, bias)\n",
    "    return hidden_layer\n",
    "\n",
    "\n",
    "\"\"\"\n",
    "DON'T MODIFY ANYTHING IN THIS CELL THAT IS BELOW THIS LINE\n",
    "\"\"\"\n",
    "tests.test_output(output)"
   ]
  },
  {
   "cell_type": "markdown",
   "metadata": {},
   "source": [
    "### Create Convolutional Model\n",
    "Implement the function `conv_net` to create a convolutional neural network model. The function takes in a batch of images, `x`, and outputs logits.  Use the layers you created above to create this model:\n",
    "\n",
    "* Apply 1, 2, or 3 Convolution and Max Pool layers\n",
    "* Apply a Flatten Layer\n",
    "* Apply 1, 2, or 3 Fully Connected Layers\n",
    "* Apply an Output Layer\n",
    "* Return the output\n",
    "* Apply [TensorFlow's Dropout](https://www.tensorflow.org/api_docs/python/tf/nn/dropout) to one or more layers in the model using `keep_prob`. "
   ]
  },
  {
   "cell_type": "code",
   "execution_count": 7,
   "metadata": {
    "collapsed": false
   },
   "outputs": [
    {
     "name": "stdout",
     "output_type": "stream",
     "text": [
      "Neural Network Built!\n"
     ]
    }
   ],
   "source": [
    "def conv_net(x, keep_prob):\n",
    "    \"\"\"\n",
    "    Create a convolutional neural network model\n",
    "    : x: Placeholder tensor that holds image data.\n",
    "    : keep_prob: Placeholder tensor that hold dropout keep probability.\n",
    "    : return: Tensor that represents logits\n",
    "    \"\"\"\n",
    "    # TODO: Apply 1, 2, or 3 Convolution and Max Pool layers\n",
    "    #    Play around with different number of outputs, kernel size and stride\n",
    "    # Function Definition from Above:\n",
    "    #    conv2d_maxpool(x_tensor, conv_num_outputs, conv_ksize, conv_strides, pool_ksize, pool_strides)\n",
    "    x_tensor = conv2d_maxpool(x, 64, (3,3), (1,1), (2,2), (2,2))\n",
    "    x_tensor = conv2d_maxpool(x_tensor, 256, (3,3), (1,1), (2,2), (2,2))\n",
    "    \n",
    "    # TODO: Apply a Flatten Layer\n",
    "    # Function Definition from Above:\n",
    "    x_tensor = flatten(x_tensor)\n",
    "    \n",
    "\n",
    "    # TODO: Apply 1, 2, or 3 Fully Connected Layers\n",
    "    #    Play around with different number of outputs\n",
    "    # Function Definition from Above:\n",
    "    x_tensor = fully_conn(x_tensor, 1024)\n",
    "    x_tensor = tf.layers.dropout(x_tensor, keep_prob)\n",
    "    \n",
    "    # TODO: Apply an Output Layer\n",
    "    #    Set this to the number of classes\n",
    "    # Function Definition from Above:\n",
    "    x_tensor = output(x_tensor, 10)\n",
    "    \n",
    "    \n",
    "    # TODO: return output\n",
    "    return x_tensor\n",
    "\n",
    "\n",
    "\"\"\"\n",
    "DON'T MODIFY ANYTHING IN THIS CELL THAT IS BELOW THIS LINE\n",
    "\"\"\"\n",
    "\n",
    "##############################\n",
    "## Build the Neural Network ##\n",
    "##############################\n",
    "\n",
    "# Remove previous weights, bias, inputs, etc..\n",
    "tf.reset_default_graph()\n",
    "\n",
    "# Inputs\n",
    "x = neural_net_image_input((32, 32, 3))\n",
    "y = neural_net_label_input(10)\n",
    "keep_prob = neural_net_keep_prob_input()\n",
    "\n",
    "# Model\n",
    "logits = conv_net(x, keep_prob)\n",
    "\n",
    "# Name logits Tensor, so that is can be loaded from disk after training\n",
    "logits = tf.identity(logits, name='logits')\n",
    "\n",
    "# Loss and Optimizer\n",
    "cost = tf.reduce_mean(tf.nn.softmax_cross_entropy_with_logits(logits=logits, labels=y))\n",
    "optimizer = tf.train.AdamOptimizer().minimize(cost)\n",
    "\n",
    "# Accuracy\n",
    "correct_pred = tf.equal(tf.argmax(logits, 1), tf.argmax(y, 1))\n",
    "accuracy = tf.reduce_mean(tf.cast(correct_pred, tf.float32), name='accuracy')\n",
    "\n",
    "tests.test_conv_net(conv_net)"
   ]
  },
  {
   "cell_type": "markdown",
   "metadata": {},
   "source": [
    "## Train the Neural Network\n",
    "### Single Optimization\n",
    "Implement the function `train_neural_network` to do a single optimization.  The optimization should use `optimizer` to optimize in `session` with a `feed_dict` of the following:\n",
    "* `x` for image input\n",
    "* `y` for labels\n",
    "* `keep_prob` for keep probability for dropout\n",
    "\n",
    "This function will be called for each batch, so `tf.global_variables_initializer()` has already been called.\n",
    "\n",
    "Note: Nothing needs to be returned. This function is only optimizing the neural network."
   ]
  },
  {
   "cell_type": "code",
   "execution_count": 8,
   "metadata": {
    "collapsed": false
   },
   "outputs": [
    {
     "name": "stdout",
     "output_type": "stream",
     "text": [
      "Tests Passed\n"
     ]
    }
   ],
   "source": [
    "def train_neural_network(session, optimizer, keep_probability, feature_batch, label_batch):\n",
    "    \"\"\"\n",
    "    Optimize the session on a batch of images and labels\n",
    "    : session: Current TensorFlow session\n",
    "    : optimizer: TensorFlow optimizer function\n",
    "    : keep_probability: keep probability\n",
    "    : feature_batch: Batch of Numpy image data\n",
    "    : label_batch: Batch of Numpy label data\n",
    "    \"\"\"\n",
    "    # TODO: Implement Function\n",
    "    session.run(optimizer, feed_dict={x: feature_batch, y: label_batch, keep_prob: keep_probability})\n",
    "\n",
    "\n",
    "\"\"\"\n",
    "DON'T MODIFY ANYTHING IN THIS CELL THAT IS BELOW THIS LINE\n",
    "\"\"\"\n",
    "tests.test_train_nn(train_neural_network)"
   ]
  },
  {
   "cell_type": "markdown",
   "metadata": {},
   "source": [
    "### Show Stats\n",
    "Implement the function `print_stats` to print loss and validation accuracy.  Use the global variables `valid_features` and `valid_labels` to calculate validation accuracy.  Use a keep probability of `1.0` to calculate the loss and validation accuracy."
   ]
  },
  {
   "cell_type": "code",
   "execution_count": 9,
   "metadata": {
    "collapsed": false
   },
   "outputs": [],
   "source": [
    "def print_stats(session, feature_batch, label_batch, cost, accuracy):\n",
    "    \"\"\"\n",
    "    Print information about loss and validation accuracy\n",
    "    : session: Current TensorFlow session\n",
    "    : feature_batch: Batch of Numpy image data\n",
    "    : label_batch: Batch of Numpy label data\n",
    "    : cost: TensorFlow cost function\n",
    "    : accuracy: TensorFlow accuracy function\n",
    "    \"\"\"\n",
    "    # TODO: Implement Function\n",
    "    t_lost  = session.run(cost, feed_dict={x: feature_batch, y: label_batch, keep_prob: 1.0})\n",
    "    t_acc = session.run(accuracy, feed_dict={x: feature_batch, y: label_batch, keep_prob: 1.0})\n",
    "    v_lost = session.run(cost, feed_dict={x: valid_features, y: valid_labels, keep_prob: 1.0})\n",
    "    v_acc = session.run(accuracy, feed_dict={x: valid_features, y: valid_labels, keep_prob: 1.0})\n",
    "    print('train lost:{:.2f}, train acc:{:2f}, valid lost:{:.2f}, and valid accuracy:{:.2f}'.format(t_lost, t_acc, v_lost, v_acc))"
   ]
  },
  {
   "cell_type": "markdown",
   "metadata": {},
   "source": [
    "### Hyperparameters\n",
    "Tune the following parameters:\n",
    "* Set `epochs` to the number of iterations until the network stops learning or start overfitting\n",
    "* Set `batch_size` to the highest number that your machine has memory for.  Most people set them to common sizes of memory:\n",
    " * 64\n",
    " * 128\n",
    " * 256\n",
    " * ...\n",
    "* Set `keep_probability` to the probability of keeping a node using dropout"
   ]
  },
  {
   "cell_type": "code",
   "execution_count": 10,
   "metadata": {
    "collapsed": true
   },
   "outputs": [],
   "source": [
    "# TODO: Tune Parameters\n",
    "epochs = 20\n",
    "batch_size = 64\n",
    "keep_probability = 0.5"
   ]
  },
  {
   "cell_type": "markdown",
   "metadata": {},
   "source": [
    "### Train on a Single CIFAR-10 Batch\n",
    "Instead of training the neural network on all the CIFAR-10 batches of data, let's use a single batch. This should save time while you iterate on the model to get a better accuracy.  Once the final validation accuracy is 50% or greater, run the model on all the data in the next section."
   ]
  },
  {
   "cell_type": "code",
   "execution_count": 11,
   "metadata": {
    "collapsed": false,
    "scrolled": false
   },
   "outputs": [
    {
     "name": "stdout",
     "output_type": "stream",
     "text": [
      "Checking the Training on a Single Batch...\n",
      "Epoch  1, CIFAR-10 Batch 1:  train lost:9980.10, train acc:0.275000, valid lost:8934.24, and valid accuracy:0.29\n",
      "Epoch  2, CIFAR-10 Batch 1:  train lost:6988.83, train acc:0.375000, valid lost:7413.46, and valid accuracy:0.32\n",
      "Epoch  3, CIFAR-10 Batch 1:  train lost:5213.80, train acc:0.425000, valid lost:6545.90, and valid accuracy:0.35\n",
      "Epoch  4, CIFAR-10 Batch 1:  train lost:4384.10, train acc:0.525000, valid lost:6115.75, and valid accuracy:0.37\n",
      "Epoch  5, CIFAR-10 Batch 1:  train lost:3166.83, train acc:0.625000, valid lost:5046.06, and valid accuracy:0.40\n",
      "Epoch  6, CIFAR-10 Batch 1:  train lost:2497.88, train acc:0.600000, valid lost:4535.90, and valid accuracy:0.43\n",
      "Epoch  7, CIFAR-10 Batch 1:  train lost:2202.70, train acc:0.625000, valid lost:4468.87, and valid accuracy:0.43\n",
      "Epoch  8, CIFAR-10 Batch 1:  train lost:1810.45, train acc:0.625000, valid lost:4069.13, and valid accuracy:0.44\n",
      "Epoch  9, CIFAR-10 Batch 1:  train lost:1537.04, train acc:0.625000, valid lost:4530.49, and valid accuracy:0.42\n",
      "Epoch 10, CIFAR-10 Batch 1:  train lost:1072.11, train acc:0.725000, valid lost:3721.70, and valid accuracy:0.44\n",
      "Epoch 11, CIFAR-10 Batch 1:  train lost:879.68, train acc:0.775000, valid lost:3541.40, and valid accuracy:0.46\n",
      "Epoch 12, CIFAR-10 Batch 1:  train lost:606.69, train acc:0.800000, valid lost:3299.37, and valid accuracy:0.47\n",
      "Epoch 13, CIFAR-10 Batch 1:  train lost:674.52, train acc:0.800000, valid lost:3422.80, and valid accuracy:0.46\n",
      "Epoch 14, CIFAR-10 Batch 1:  train lost:1045.82, train acc:0.675000, valid lost:3751.06, and valid accuracy:0.45\n",
      "Epoch 15, CIFAR-10 Batch 1:  train lost:970.38, train acc:0.825000, valid lost:3673.65, and valid accuracy:0.45\n",
      "Epoch 16, CIFAR-10 Batch 1:  train lost:669.75, train acc:0.850000, valid lost:3430.97, and valid accuracy:0.47\n",
      "Epoch 17, CIFAR-10 Batch 1:  train lost:356.02, train acc:0.850000, valid lost:3029.62, and valid accuracy:0.49\n",
      "Epoch 18, CIFAR-10 Batch 1:  train lost:129.43, train acc:0.925000, valid lost:3002.16, and valid accuracy:0.49\n",
      "Epoch 19, CIFAR-10 Batch 1:  train lost:102.82, train acc:0.925000, valid lost:3068.29, and valid accuracy:0.49\n",
      "Epoch 20, CIFAR-10 Batch 1:  train lost:125.72, train acc:0.875000, valid lost:3228.06, and valid accuracy:0.47\n"
     ]
    }
   ],
   "source": [
    "\"\"\"\n",
    "DON'T MODIFY ANYTHING IN THIS CELL\n",
    "\"\"\"\n",
    "print('Checking the Training on a Single Batch...')\n",
    "with tf.Session() as sess:\n",
    "    # Initializing the variables\n",
    "    sess.run(tf.global_variables_initializer())\n",
    "    \n",
    "    # Training cycle\n",
    "    for epoch in range(epochs):\n",
    "        batch_i = 1\n",
    "        for batch_features, batch_labels in helper.load_preprocess_training_batch(batch_i, batch_size):\n",
    "            train_neural_network(sess, optimizer, keep_probability, batch_features, batch_labels)\n",
    "        print('Epoch {:>2}, CIFAR-10 Batch {}:  '.format(epoch + 1, batch_i), end='')\n",
    "        print_stats(sess, batch_features, batch_labels, cost, accuracy)"
   ]
  },
  {
   "cell_type": "markdown",
   "metadata": {},
   "source": [
    "### Fully Train the Model\n",
    "Now that you got a good accuracy with a single CIFAR-10 batch, try it with all five batches."
   ]
  },
  {
   "cell_type": "code",
   "execution_count": 12,
   "metadata": {
    "collapsed": false,
    "scrolled": true
   },
   "outputs": [
    {
     "name": "stdout",
     "output_type": "stream",
     "text": [
      "Training...\n",
      "Epoch  1, CIFAR-10 Batch 1:  train lost:8997.36, train acc:0.350000, valid lost:9825.19, and valid accuracy:0.30\n",
      "Epoch  1, CIFAR-10 Batch 2:  train lost:6982.32, train acc:0.375000, valid lost:8208.84, and valid accuracy:0.34\n",
      "Epoch  1, CIFAR-10 Batch 3:  train lost:5162.19, train acc:0.475000, valid lost:5562.81, and valid accuracy:0.39\n",
      "Epoch  1, CIFAR-10 Batch 4:  train lost:4395.07, train acc:0.475000, valid lost:5360.82, and valid accuracy:0.39\n",
      "Epoch  1, CIFAR-10 Batch 5:  train lost:4469.51, train acc:0.375000, valid lost:4605.55, and valid accuracy:0.41\n",
      "Epoch  2, CIFAR-10 Batch 1:  train lost:3483.88, train acc:0.500000, valid lost:4448.64, and valid accuracy:0.43\n",
      "Epoch  2, CIFAR-10 Batch 2:  train lost:5098.13, train acc:0.400000, valid lost:4383.54, and valid accuracy:0.40\n",
      "Epoch  2, CIFAR-10 Batch 3:  train lost:2952.42, train acc:0.525000, valid lost:3462.29, and valid accuracy:0.44\n",
      "Epoch  2, CIFAR-10 Batch 4:  train lost:2873.95, train acc:0.500000, valid lost:3260.88, and valid accuracy:0.45\n",
      "Epoch  2, CIFAR-10 Batch 5:  train lost:2641.83, train acc:0.450000, valid lost:3650.44, and valid accuracy:0.41\n",
      "Epoch  3, CIFAR-10 Batch 1:  train lost:2433.85, train acc:0.650000, valid lost:2899.07, and valid accuracy:0.47\n",
      "Epoch  3, CIFAR-10 Batch 2:  train lost:1953.81, train acc:0.500000, valid lost:2827.03, and valid accuracy:0.44\n",
      "Epoch  3, CIFAR-10 Batch 3:  train lost:1373.79, train acc:0.700000, valid lost:2460.25, and valid accuracy:0.47\n",
      "Epoch  3, CIFAR-10 Batch 4:  train lost:1539.84, train acc:0.600000, valid lost:2360.61, and valid accuracy:0.48\n",
      "Epoch  3, CIFAR-10 Batch 5:  train lost:1503.18, train acc:0.550000, valid lost:2188.22, and valid accuracy:0.49\n",
      "Epoch  4, CIFAR-10 Batch 1:  train lost:1705.19, train acc:0.600000, valid lost:2168.97, and valid accuracy:0.49\n",
      "Epoch  4, CIFAR-10 Batch 2:  train lost:1372.62, train acc:0.600000, valid lost:2103.83, and valid accuracy:0.49\n",
      "Epoch  4, CIFAR-10 Batch 3:  train lost:1002.33, train acc:0.700000, valid lost:1934.72, and valid accuracy:0.49\n",
      "Epoch  4, CIFAR-10 Batch 4:  train lost:1137.08, train acc:0.650000, valid lost:1989.17, and valid accuracy:0.48\n",
      "Epoch  4, CIFAR-10 Batch 5:  train lost:1225.72, train acc:0.550000, valid lost:1802.19, and valid accuracy:0.50\n",
      "Epoch  5, CIFAR-10 Batch 1:  train lost:1175.74, train acc:0.700000, valid lost:1707.53, and valid accuracy:0.51\n",
      "Epoch  5, CIFAR-10 Batch 2:  train lost:1059.85, train acc:0.650000, valid lost:1839.98, and valid accuracy:0.49\n",
      "Epoch  5, CIFAR-10 Batch 3:  train lost:848.20, train acc:0.700000, valid lost:1664.03, and valid accuracy:0.51\n",
      "Epoch  5, CIFAR-10 Batch 4:  train lost:601.71, train acc:0.725000, valid lost:1510.60, and valid accuracy:0.51\n",
      "Epoch  5, CIFAR-10 Batch 5:  train lost:728.42, train acc:0.525000, valid lost:1449.78, and valid accuracy:0.52\n",
      "Epoch  6, CIFAR-10 Batch 1:  train lost:832.10, train acc:0.700000, valid lost:1435.66, and valid accuracy:0.52\n",
      "Epoch  6, CIFAR-10 Batch 2:  train lost:633.31, train acc:0.750000, valid lost:1418.26, and valid accuracy:0.52\n",
      "Epoch  6, CIFAR-10 Batch 3:  train lost:544.63, train acc:0.725000, valid lost:1455.32, and valid accuracy:0.51\n",
      "Epoch  6, CIFAR-10 Batch 4:  train lost:469.42, train acc:0.750000, valid lost:1370.55, and valid accuracy:0.51\n",
      "Epoch  6, CIFAR-10 Batch 5:  train lost:540.10, train acc:0.550000, valid lost:1265.55, and valid accuracy:0.53\n",
      "Epoch  7, CIFAR-10 Batch 1:  train lost:671.05, train acc:0.725000, valid lost:1237.16, and valid accuracy:0.54\n",
      "Epoch  7, CIFAR-10 Batch 2:  train lost:488.43, train acc:0.750000, valid lost:1292.42, and valid accuracy:0.51\n",
      "Epoch  7, CIFAR-10 Batch 3:  train lost:403.63, train acc:0.825000, valid lost:1164.26, and valid accuracy:0.53\n",
      "Epoch  7, CIFAR-10 Batch 4:  train lost:385.38, train acc:0.725000, valid lost:1205.98, and valid accuracy:0.52\n",
      "Epoch  7, CIFAR-10 Batch 5:  train lost:281.67, train acc:0.650000, valid lost:1115.30, and valid accuracy:0.53\n",
      "Epoch  8, CIFAR-10 Batch 1:  train lost:466.34, train acc:0.750000, valid lost:1115.47, and valid accuracy:0.53\n",
      "Epoch  8, CIFAR-10 Batch 2:  train lost:183.29, train acc:0.775000, valid lost:1117.24, and valid accuracy:0.52\n",
      "Epoch  8, CIFAR-10 Batch 3:  train lost:278.65, train acc:0.850000, valid lost:1022.34, and valid accuracy:0.54\n",
      "Epoch  8, CIFAR-10 Batch 4:  train lost:212.78, train acc:0.850000, valid lost:1057.24, and valid accuracy:0.54\n",
      "Epoch  8, CIFAR-10 Batch 5:  train lost:144.42, train acc:0.825000, valid lost:1038.70, and valid accuracy:0.53\n",
      "Epoch  9, CIFAR-10 Batch 1:  train lost:490.75, train acc:0.725000, valid lost:1128.51, and valid accuracy:0.53\n",
      "Epoch  9, CIFAR-10 Batch 2:  train lost:205.87, train acc:0.800000, valid lost:956.81, and valid accuracy:0.55\n",
      "Epoch  9, CIFAR-10 Batch 3:  train lost:210.50, train acc:0.850000, valid lost:1000.83, and valid accuracy:0.53\n",
      "Epoch  9, CIFAR-10 Batch 4:  train lost:170.39, train acc:0.825000, valid lost:909.43, and valid accuracy:0.55\n",
      "Epoch  9, CIFAR-10 Batch 5:  train lost:141.41, train acc:0.825000, valid lost:946.36, and valid accuracy:0.54\n",
      "Epoch 10, CIFAR-10 Batch 1:  train lost:210.72, train acc:0.825000, valid lost:964.51, and valid accuracy:0.53\n",
      "Epoch 10, CIFAR-10 Batch 2:  train lost:59.68, train acc:0.850000, valid lost:891.19, and valid accuracy:0.55\n",
      "Epoch 10, CIFAR-10 Batch 3:  train lost:107.26, train acc:0.900000, valid lost:872.44, and valid accuracy:0.54\n",
      "Epoch 10, CIFAR-10 Batch 4:  train lost:98.79, train acc:0.850000, valid lost:862.01, and valid accuracy:0.55\n",
      "Epoch 10, CIFAR-10 Batch 5:  train lost:179.75, train acc:0.750000, valid lost:913.06, and valid accuracy:0.54\n",
      "Epoch 11, CIFAR-10 Batch 1:  train lost:186.61, train acc:0.800000, valid lost:856.61, and valid accuracy:0.56\n",
      "Epoch 11, CIFAR-10 Batch 2:  train lost:20.44, train acc:0.950000, valid lost:820.55, and valid accuracy:0.56\n",
      "Epoch 11, CIFAR-10 Batch 3:  train lost:65.82, train acc:0.875000, valid lost:811.44, and valid accuracy:0.55\n",
      "Epoch 11, CIFAR-10 Batch 4:  train lost:119.78, train acc:0.825000, valid lost:825.45, and valid accuracy:0.56\n",
      "Epoch 11, CIFAR-10 Batch 5:  train lost:55.07, train acc:0.850000, valid lost:806.05, and valid accuracy:0.55\n",
      "Epoch 12, CIFAR-10 Batch 1:  train lost:152.96, train acc:0.800000, valid lost:753.72, and valid accuracy:0.57\n",
      "Epoch 12, CIFAR-10 Batch 2:  train lost:40.64, train acc:0.925000, valid lost:792.06, and valid accuracy:0.55\n",
      "Epoch 12, CIFAR-10 Batch 3:  train lost:11.00, train acc:0.975000, valid lost:773.34, and valid accuracy:0.56\n",
      "Epoch 12, CIFAR-10 Batch 4:  train lost:40.03, train acc:0.925000, valid lost:741.57, and valid accuracy:0.57\n",
      "Epoch 12, CIFAR-10 Batch 5:  train lost:60.54, train acc:0.875000, valid lost:744.09, and valid accuracy:0.55\n",
      "Epoch 13, CIFAR-10 Batch 1:  train lost:137.35, train acc:0.825000, valid lost:859.24, and valid accuracy:0.55\n",
      "Epoch 13, CIFAR-10 Batch 2:  train lost:27.55, train acc:0.950000, valid lost:745.07, and valid accuracy:0.57\n",
      "Epoch 13, CIFAR-10 Batch 3:  train lost:8.90, train acc:0.950000, valid lost:746.15, and valid accuracy:0.56\n",
      "Epoch 13, CIFAR-10 Batch 4:  train lost:42.83, train acc:0.875000, valid lost:770.93, and valid accuracy:0.57\n",
      "Epoch 13, CIFAR-10 Batch 5:  train lost:21.45, train acc:0.950000, valid lost:739.72, and valid accuracy:0.56\n",
      "Epoch 14, CIFAR-10 Batch 1:  train lost:65.97, train acc:0.850000, valid lost:735.85, and valid accuracy:0.56\n",
      "Epoch 14, CIFAR-10 Batch 2:  train lost:0.00, train acc:1.000000, valid lost:702.52, and valid accuracy:0.58\n",
      "Epoch 14, CIFAR-10 Batch 3:  train lost:45.85, train acc:0.875000, valid lost:808.66, and valid accuracy:0.55\n",
      "Epoch 14, CIFAR-10 Batch 4:  train lost:6.24, train acc:0.950000, valid lost:693.81, and valid accuracy:0.57\n",
      "Epoch 14, CIFAR-10 Batch 5:  train lost:27.70, train acc:0.925000, valid lost:691.18, and valid accuracy:0.58\n",
      "Epoch 15, CIFAR-10 Batch 1:  train lost:59.80, train acc:0.925000, valid lost:764.55, and valid accuracy:0.56\n",
      "Epoch 15, CIFAR-10 Batch 2:  train lost:0.00, train acc:1.000000, valid lost:709.06, and valid accuracy:0.57\n",
      "Epoch 15, CIFAR-10 Batch 3:  train lost:0.00, train acc:1.000000, valid lost:746.36, and valid accuracy:0.56\n",
      "Epoch 15, CIFAR-10 Batch 4:  train lost:0.60, train acc:0.975000, valid lost:670.47, and valid accuracy:0.57\n",
      "Epoch 15, CIFAR-10 Batch 5:  train lost:5.18, train acc:0.975000, valid lost:664.82, and valid accuracy:0.58\n",
      "Epoch 16, CIFAR-10 Batch 1:  train lost:39.64, train acc:0.900000, valid lost:698.60, and valid accuracy:0.58\n",
      "Epoch 16, CIFAR-10 Batch 2:  train lost:0.00, train acc:1.000000, valid lost:696.32, and valid accuracy:0.57\n",
      "Epoch 16, CIFAR-10 Batch 3:  train lost:0.00, train acc:1.000000, valid lost:637.25, and valid accuracy:0.59\n",
      "Epoch 16, CIFAR-10 Batch 4:  train lost:0.00, train acc:1.000000, valid lost:642.06, and valid accuracy:0.58\n",
      "Epoch 16, CIFAR-10 Batch 5:  train lost:0.00, train acc:1.000000, valid lost:664.81, and valid accuracy:0.57\n",
      "Epoch 17, CIFAR-10 Batch 1:  train lost:35.14, train acc:0.900000, valid lost:653.24, and valid accuracy:0.58\n",
      "Epoch 17, CIFAR-10 Batch 2:  train lost:0.89, train acc:0.975000, valid lost:636.50, and valid accuracy:0.59\n",
      "Epoch 17, CIFAR-10 Batch 3:  train lost:4.49, train acc:0.975000, valid lost:645.40, and valid accuracy:0.59\n",
      "Epoch 17, CIFAR-10 Batch 4:  train lost:4.81, train acc:0.950000, valid lost:639.53, and valid accuracy:0.59\n",
      "Epoch 17, CIFAR-10 Batch 5:  train lost:14.53, train acc:0.925000, valid lost:628.16, and valid accuracy:0.59\n",
      "Epoch 18, CIFAR-10 Batch 1:  train lost:14.64, train acc:0.925000, valid lost:613.26, and valid accuracy:0.60\n",
      "Epoch 18, CIFAR-10 Batch 2:  train lost:0.00, train acc:1.000000, valid lost:642.54, and valid accuracy:0.58\n",
      "Epoch 18, CIFAR-10 Batch 3:  train lost:3.17, train acc:0.950000, valid lost:613.16, and valid accuracy:0.59\n",
      "Epoch 18, CIFAR-10 Batch 4:  train lost:0.00, train acc:1.000000, valid lost:634.81, and valid accuracy:0.59\n",
      "Epoch 18, CIFAR-10 Batch 5:  train lost:6.65, train acc:0.975000, valid lost:612.44, and valid accuracy:0.59\n",
      "Epoch 19, CIFAR-10 Batch 1:  train lost:4.33, train acc:0.975000, valid lost:602.00, and valid accuracy:0.61\n",
      "Epoch 19, CIFAR-10 Batch 2:  train lost:0.00, train acc:1.000000, valid lost:651.94, and valid accuracy:0.58\n",
      "Epoch 19, CIFAR-10 Batch 3:  train lost:8.73, train acc:0.975000, valid lost:623.34, and valid accuracy:0.59\n",
      "Epoch 19, CIFAR-10 Batch 4:  train lost:11.33, train acc:0.950000, valid lost:637.60, and valid accuracy:0.59\n",
      "Epoch 19, CIFAR-10 Batch 5:  train lost:5.74, train acc:0.975000, valid lost:603.66, and valid accuracy:0.58\n",
      "Epoch 20, CIFAR-10 Batch 1:  train lost:0.00, train acc:1.000000, valid lost:587.67, and valid accuracy:0.60\n",
      "Epoch 20, CIFAR-10 Batch 2:  train lost:0.00, train acc:1.000000, valid lost:609.60, and valid accuracy:0.59\n",
      "Epoch 20, CIFAR-10 Batch 3:  train lost:9.29, train acc:0.975000, valid lost:603.74, and valid accuracy:0.60\n",
      "Epoch 20, CIFAR-10 Batch 4:  train lost:0.00, train acc:1.000000, valid lost:615.11, and valid accuracy:0.59\n",
      "Epoch 20, CIFAR-10 Batch 5:  train lost:6.36, train acc:0.975000, valid lost:605.91, and valid accuracy:0.59\n"
     ]
    }
   ],
   "source": [
    "\"\"\"\n",
    "DON'T MODIFY ANYTHING IN THIS CELL\n",
    "\"\"\"\n",
    "save_model_path = './image_classification'\n",
    "\n",
    "print('Training...')\n",
    "with tf.Session() as sess:\n",
    "    # Initializing the variables\n",
    "    sess.run(tf.global_variables_initializer())\n",
    "    \n",
    "    # Training cycle\n",
    "    for epoch in range(epochs):\n",
    "        # Loop over all batches\n",
    "        n_batches = 5\n",
    "        for batch_i in range(1, n_batches + 1):\n",
    "            for batch_features, batch_labels in helper.load_preprocess_training_batch(batch_i, batch_size):\n",
    "                train_neural_network(sess, optimizer, keep_probability, batch_features, batch_labels)\n",
    "            print('Epoch {:>2}, CIFAR-10 Batch {}:  '.format(epoch + 1, batch_i), end='')\n",
    "            print_stats(sess, batch_features, batch_labels, cost, accuracy)\n",
    "            \n",
    "    # Save Model\n",
    "    saver = tf.train.Saver()\n",
    "    save_path = saver.save(sess, save_model_path)"
   ]
  },
  {
   "cell_type": "markdown",
   "metadata": {},
   "source": [
    "# Checkpoint\n",
    "The model has been saved to disk.\n",
    "## Test Model\n",
    "Test your model against the test dataset.  This will be your final accuracy. You should have an accuracy greater than 50%. If you don't, keep tweaking the model architecture and parameters."
   ]
  },
  {
   "cell_type": "code",
   "execution_count": 13,
   "metadata": {
    "collapsed": false
   },
   "outputs": [
    {
     "name": "stdout",
     "output_type": "stream",
     "text": [
      "Testing Accuracy: 0.5778264331210191\n",
      "\n"
     ]
    },
    {
     "data": {
      "image/png": "[encoded data removed]",
      "text/plain": [
       "<matplotlib.figure.Figure at 0x10c151dd8>"
      ]
     },
     "metadata": {
      "image/png": {
       "height": 319,
       "width": 349
      }
     },
     "output_type": "display_data"
    }
   ],
   "source": [
    "\"\"\"\n",
    "DON'T MODIFY ANYTHING IN THIS CELL\n",
    "\"\"\"\n",
    "%matplotlib inline\n",
    "%config InlineBackend.figure_format = 'retina'\n",
    "\n",
    "import tensorflow as tf\n",
    "import pickle\n",
    "import helper\n",
    "import random\n",
    "\n",
    "# Set batch size if not already set\n",
    "try:\n",
    "    if batch_size:\n",
    "        pass\n",
    "except NameError:\n",
    "    batch_size = 64\n",
    "\n",
    "save_model_path = './image_classification'\n",
    "n_samples = 4\n",
    "top_n_predictions = 3\n",
    "\n",
    "def test_model():\n",
    "    \"\"\"\n",
    "    Test the saved model against the test dataset\n",
    "    \"\"\"\n",
    "\n",
    "    test_features, test_labels = pickle.load(open('preprocess_training.p', mode='rb'))\n",
    "    loaded_graph = tf.Graph()\n",
    "\n",
    "    with tf.Session(graph=loaded_graph) as sess:\n",
    "        # Load model\n",
    "        loader = tf.train.import_meta_graph(save_model_path + '.meta')\n",
    "        loader.restore(sess, save_model_path)\n",
    "\n",
    "        # Get Tensors from loaded model\n",
    "        loaded_x = loaded_graph.get_tensor_by_name('x:0')\n",
    "        loaded_y = loaded_graph.get_tensor_by_name('y:0')\n",
    "        loaded_keep_prob = loaded_graph.get_tensor_by_name('keep_prob:0')\n",
    "        loaded_logits = loaded_graph.get_tensor_by_name('logits:0')\n",
    "        loaded_acc = loaded_graph.get_tensor_by_name('accuracy:0')\n",
    "        \n",
    "        # Get accuracy in batches for memory limitations\n",
    "        test_batch_acc_total = 0\n",
    "        test_batch_count = 0\n",
    "        \n",
    "        for train_feature_batch, train_label_batch in helper.batch_features_labels(test_features, test_labels, batch_size):\n",
    "            test_batch_acc_total += sess.run(\n",
    "                loaded_acc,\n",
    "                feed_dict={loaded_x: train_feature_batch, loaded_y: train_label_batch, loaded_keep_prob: 1.0})\n",
    "            test_batch_count += 1\n",
    "\n",
    "        print('Testing Accuracy: {}\\n'.format(test_batch_acc_total/test_batch_count))\n",
    "\n",
    "        # Print Random Samples\n",
    "        random_test_features, random_test_labels = tuple(zip(*random.sample(list(zip(test_features, test_labels)), n_samples)))\n",
    "        random_test_predictions = sess.run(\n",
    "            tf.nn.top_k(tf.nn.softmax(loaded_logits), top_n_predictions),\n",
    "            feed_dict={loaded_x: random_test_features, loaded_y: random_test_labels, loaded_keep_prob: 1.0})\n",
    "        helper.display_image_predictions(random_test_features, random_test_labels, random_test_predictions)\n",
    "\n",
    "\n",
    "test_model()"
   ]
  },
  {
   "cell_type": "markdown",
   "metadata": {},
   "source": [
    "## Why 50-70% Accuracy?\n",
    "You might be wondering why you can't get an accuracy any higher. First things first, 50% isn't bad for a simple CNN.  Pure guessing would get you 10% accuracy. However, you might notice people are getting scores [well above 70%](http://rodrigob.github.io/are_we_there_yet/build/classification_datasets_results.html#43494641522d3130).  That's because we haven't taught you all there is to know about neural networks. We still need to cover a few more techniques.\n",
    "## Submitting This Project\n",
    "When submitting this project, make sure to run all the cells before saving the notebook.  Save the notebook file as \"dlnd_image_classification.ipynb\" and save it as a HTML file under \"File\" -> \"Download as\".  Include the \"helper.py\" and \"problem_unittests.py\" files in your submission."
   ]
  }
 ],
 "metadata": {
  "kernelspec": {
   "display_name": "Python 3",
   "language": "python",
   "name": "python3"
  },
  "language_info": {
   "codemirror_mode": {
    "name": "ipython",
    "version": 3
   },
   "file_extension": ".py",
   "mimetype": "text/x-python",
   "name": "python",
   "nbconvert_exporter": "python",
   "pygments_lexer": "ipython3",
   "version": "3.6.0"
  }
 },
 "nbformat": 4,
 "nbformat_minor": 0
}
